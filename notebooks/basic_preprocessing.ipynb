{
 "cells": [
  {
   "cell_type": "code",
   "execution_count": 7,
   "metadata": {
    "collapsed": true
   },
   "outputs": [],
   "source": [
    "import pandas as pd\n",
    "import numpy as np\n",
    "import seaborn as sns\n",
    "import math\n",
    "import matplotlib.pyplot as plt\n",
    "from sklearn.feature_selection import SelectFromModel\n",
    "from sklearn.linear_model import LogisticRegression, LinearRegression, Lasso\n",
    "from sklearn.metrics import make_scorer\n",
    "from sklearn.model_selection import cross_val_score\n",
    "from sklearn.pipeline import Pipeline\n",
    "from sklearn.preprocessing import StandardScaler\n",
    "from sklearn.neighbors import KNeighborsRegressor\n",
    "from diagnostics.evaluation import fit_and_eval, weighted_quad_kappa\n",
    "from imputers.hot_deck_full_imputer import HotDeckFullImputer, HotDeckColImputer\n",
    "from imputers.hot_deck_simple_imputer import HotDeckSimpleImputer\n",
    "from imputers.model_based import ModelBasedImputer\n",
    "from imputers.model_based_imputer import ModelBasedFullImputer\n",
    "from imputers.fill_missing_transformer import FillNaTransformer\n",
    "from imputers.knn_filler import dist_fn1, KnnFiller\n",
    "from imputers.regression_filler import RegressionFiller\n",
    "from imputers.zero_filler import ZeroFiller\n",
    "from tools.datasets import get_boston, get_heart, get_houses, get_prudential\n",
    "from sklearn.metrics import make_scorer, accuracy_score, f1_score\n"
   ]
  },
  {
   "cell_type": "code",
   "execution_count": 3,
   "metadata": {},
   "outputs": [],
   "source": [
    "# data, labels, continuous, discrete, dummy, categorical, target = get_boston()\n",
    "# data, labels, continuous, discrete, dummy, categorical, target = get_heart()\n",
    "# data, labels, continuous, discrete, dummy, categoric|al, target = get_houses()\n",
    "data, labels, continuous, discrete, dummy, categorical, target = get_prudential()\n",
    "\n",
    "train = data.drop(target, axis=1)"
   ]
  },
  {
   "cell_type": "code",
   "execution_count": 43,
   "metadata": {},
   "outputs": [
    {
     "name": "stdout",
     "output_type": "stream",
     "text": [
      "240.0    3418\n0.0      1619\n1.0       167\n2.0       101\n14.0       98\n12.0       96\n13.0       84\n3.0        83\n15.0       76\n16.0       69\nName: Medical_History_15, dtype: int64\n75.01291119344336 %\n"
     ]
    },
    {
     "data": {
      "image/png": "[encoded data removed]",
      "text/plain": [
       "<matplotlib.figure.Figure at 0x7febf24bab00>"
      ]
     },
     "metadata": {},
     "output_type": "display_data"
    }
   ],
   "source": [
    "col = 'Medical_History_15'\n",
    "sns_plot = sns.distplot(data[col].dropna(), bins=30, kde=False,)\n",
    "sns_plot.set_title(col)\n",
    "sns_plot.get_figure().get_axes()[0].set_yscale('log')\n",
    "print(data[col].value_counts().nlargest(10))\n",
    "print(data[col].isnull().sum() * 100 / data.shape[0], '%')\n",
    "sns_plot.get_figure().savefig('./figures/basic_preprocessing/{}_hist.png'.format(col))"
   ]
  },
  {
   "cell_type": "code",
   "execution_count": null,
   "metadata": {},
   "outputs": [],
   "source": []
  }
 ],
 "metadata": {
  "kernelspec": {
   "display_name": "Python 2",
   "language": "python",
   "name": "python2"
  },
  "language_info": {
   "codemirror_mode": {
    "name": "ipython",
    "version": 2
   },
   "file_extension": ".py",
   "mimetype": "text/x-python",
   "name": "python",
   "nbconvert_exporter": "python",
   "pygments_lexer": "ipython2",
   "version": "2.7.6"
  }
 },
 "nbformat": 4,
 "nbformat_minor": 0
}
