{
 "cells": [
  {
   "cell_type": "code",
   "execution_count": 1,
   "metadata": {},
   "outputs": [],
   "source": [
    "from sklearn.model_selection import StratifiedKFold\n",
    "import pandas as pd\n",
    "import numpy as np\n",
    "from time import time\n",
    "import matplotlib.pyplot as plt\n",
    "from sklearn.linear_model import LogisticRegression, LinearRegression\n",
    "from sklearn.pipeline import Pipeline\n",
    "from sklearn.preprocessing import StandardScaler, RobustScaler\n",
    "from sklearn.metrics import make_scorer\n",
    "from sklearn.model_selection import cross_val_score, KFold, GridSearchCV\n",
    "from diagnostics.evaluation import rev_weighted_quad_kappa\n",
    "from diagnostics.evaluation import fit_and_eval, rev_weighted_quad_kappa, rmse, error_rate\n",
    "from imputers.zero_filler import ZeroFiller\n",
    "from tools.datasets import get_boston, get_heart, get_houses, get_prudential\n",
    "from config import *\n",
    "from transformers import BoxCoxTransformer, LabelsClipper, OutliersClipper, CustomOneHotEncoder, CustomBinner, CustomBinaryBinner, FeatureDropper\n",
    "import warnings\n",
    "warnings.filterwarnings('ignore')"
   ]
  },
  {
   "cell_type": "code",
   "execution_count": 2,
   "metadata": {
    "collapsed": true
   },
   "outputs": [],
   "source": [
    "# cv = KFold(3, shuffle=True, random_state=0)\n",
    "# scorer = mean_squared_error\n",
    "# data, labels, continuous, discrete, dummy, categorical, target = get_boston()\n",
    "# data, labels, continuous, discrete, dummy, categorical, target = get_houses()\n",
    "# predictors = [LinearRegression()]\n",
    "\n",
    "# scorer = accuracy_score\n",
    "# data, labels, continuous, discrete, dummy, categorical, target = get_heart()\n",
    "# predictors = [LogisticRegression()]\n",
    "# cv = StratifiedKFold(3, labels)\n",
    "\n",
    "scorer = rev_weighted_quad_kappa\n",
    "data, labels, continuous, discrete, dummy, categorical, target = get_prudential()\n",
    "cv = StratifiedKFold(3)\n",
    "predictors = [LabelsClipper(regressor=LinearRegression())]\n",
    "\n",
    "train = data.drop(target, axis=1)"
   ]
  },
  {
   "cell_type": "code",
   "execution_count": null,
   "metadata": {},
   "outputs": [],
   "source": [
    "# BINNER_CONFIG = { col: {'values': [train[col].max()]} for col in continuous + discrete }  # houses\n",
    "# BINNER_CONFIG = { col: {'bins': 3} for col in continuous + discrete }                               # heart\n",
    "BINNER_CONFIG = { col: {'bins': 5} for col in continuous }                                          # prudential\n",
    "# BINNER_CONFIG = { col: {'bins': 5} for col in continuous + discrete }                               # boston (or none)"
   ]
  },
  {
   "cell_type": "code",
   "execution_count": 16,
   "metadata": {},
   "outputs": [],
   "source": [
    "BOX_COX = BOX_COX_P\n",
    "model = Pipeline([\n",
    "        ('onehot',       CustomOneHotEncoder(columns=categorical)),\n",
    "        ('clipper', OutliersClipper(continuous)),\n",
    "        ('binner', CustomBinaryBinner({})),\n",
    "        ('binner2', CustomBinaryBinner({})),\n",
    "        ('zero_filler',  ZeroFiller()),\n",
    "        ('boxcox', BoxCoxTransformer(BOX_COX)),\n",
    "        ('scaler', StandardScaler()),\n",
    "        ('predictor',   None)  \n",
    "])"
   ]
  },
  {
   "cell_type": "code",
   "execution_count": 17,
   "metadata": {},
   "outputs": [],
   "source": [
    "\n",
    "params = [\n",
    "    { # BASELINE\n",
    "        'clipper': [None],\n",
    "        'binner': [None],\n",
    "        'binner2': [None],\n",
    "        'boxcox': [None],\n",
    "        'scaler': [None],\n",
    "        'predictor': predictors\n",
    "    },\n",
    "    { # BINNER\n",
    "        'clipper': [None],\n",
    "        'binner': [\n",
    "            CustomBinner(BINNER_CONFIG_PRUD)\n",
    "        ],\n",
    "        'binner__nan': [True, False],\n",
    "        'binner__drop': [True, False],\n",
    "        'binner2': [None],\n",
    "        'boxcox': [None],\n",
    "        'scaler': [None],\n",
    "        'predictor': predictors\n",
    "    },\n",
    "    { # BINNER Binary\n",
    "        'clipper': [None],\n",
    "        'binner': [\n",
    "            CustomBinaryBinner(BINARY_BINNER_CONFIG_PRUD)\n",
    "        ],\n",
    "        'binner__nan': [True, False],\n",
    "        'binner__drop': [True, False],\n",
    "        'binner2': [None],\n",
    "        'boxcox': [None],\n",
    "        'scaler': [None],\n",
    "        'predictor': predictors\n",
    "    },\n",
    "]"
   ]
  },
  {
   "cell_type": "code",
   "execution_count": 18,
   "metadata": {
    "collapsed": true
   },
   "outputs": [],
   "source": [
    "start = time()\n",
    "grid = GridSearchCV(model, cv=cv, n_jobs=-1, param_grid=params, scoring=make_scorer(scorer))\n",
    "grid.fit(train.copy(), labels)\n",
    "end = time()"
   ]
  },
  {
   "cell_type": "code",
   "execution_count": 21,
   "metadata": {},
   "outputs": [
    {
     "name": "stdout",
     "output_type": "stream",
     "text": [
      "GridSearchCV took 218.70 seconds for 9 candidate parameter settings.\n[mean: 0.46263, std: 0.00805, params: {'binner': None, 'binner2': None, 'boxcox': None, 'clipper': None, 'predictor': LabelsClipper(regressor=LinearRegression(copy_X=True, fit_intercept=True, n_jobs=1, normalize=False)), 'scaler': None}, mean: 0.45416, std: 0.00493, params: {'binner': CustomBinner(configuration={'Medical_History_1': {'values': [0, 240], 'bins': [0, 1, 10, 30, 100, 200, 240]}, 'Medical_History_10': {'values': [0, 240], 'bins': [0, 1, 2, 240]}, 'Medical_History_15': {'values': [0, 240], 'bins': [0, 1, 2, 240]}, 'Medical_History_24': {'values': [0, 240], 'bins': [0, 1, 2, 240]}, 'Medical_History_32': {'values': [0, 240], 'bins': [0, 1, 2, 240]}},\n       drop=False, nan=False), 'binner2': None, 'binner__drop': True, 'binner__nan': True, 'boxcox': None, 'clipper': None, 'predictor': LabelsClipper(regressor=LinearRegression(copy_X=True, fit_intercept=True, n_jobs=1, normalize=False)), 'scaler': None}, mean: 0.45673, std: 0.00448, params: {'binner': CustomBinner(configuration={'Medical_History_1': {'values': [0, 240], 'bins': [0, 1, 10, 30, 100, 200, 240]}, 'Medical_History_10': {'values': [0, 240], 'bins': [0, 1, 2, 240]}, 'Medical_History_15': {'values': [0, 240], 'bins': [0, 1, 2, 240]}, 'Medical_History_24': {'values': [0, 240], 'bins': [0, 1, 2, 240]}, 'Medical_History_32': {'values': [0, 240], 'bins': [0, 1, 2, 240]}},\n       drop=False, nan=False), 'binner2': None, 'binner__drop': True, 'binner__nan': False, 'boxcox': None, 'clipper': None, 'predictor': LabelsClipper(regressor=LinearRegression(copy_X=True, fit_intercept=True, n_jobs=1, normalize=False)), 'scaler': None}, mean: 0.45070, std: 0.00521, params: {'binner': CustomBinner(configuration={'Medical_History_1': {'values': [0, 240], 'bins': [0, 1, 10, 30, 100, 200, 240]}, 'Medical_History_10': {'values': [0, 240], 'bins': [0, 1, 2, 240]}, 'Medical_History_15': {'values': [0, 240], 'bins': [0, 1, 2, 240]}, 'Medical_History_24': {'values': [0, 240], 'bins': [0, 1, 2, 240]}, 'Medical_History_32': {'values': [0, 240], 'bins': [0, 1, 2, 240]}},\n       drop=False, nan=False), 'binner2': None, 'binner__drop': False, 'binner__nan': True, 'boxcox': None, 'clipper': None, 'predictor': LabelsClipper(regressor=LinearRegression(copy_X=True, fit_intercept=True, n_jobs=1, normalize=False)), 'scaler': None}, mean: 0.44974, std: 0.00427, params: {'binner': CustomBinner(configuration={'Medical_History_1': {'values': [0, 240], 'bins': [0, 1, 10, 30, 100, 200, 240]}, 'Medical_History_10': {'values': [0, 240], 'bins': [0, 1, 2, 240]}, 'Medical_History_15': {'values': [0, 240], 'bins': [0, 1, 2, 240]}, 'Medical_History_24': {'values': [0, 240], 'bins': [0, 1, 2, 240]}, 'Medical_History_32': {'values': [0, 240], 'bins': [0, 1, 2, 240]}},\n       drop=False, nan=False), 'binner2': None, 'binner__drop': False, 'binner__nan': False, 'boxcox': None, 'clipper': None, 'predictor': LabelsClipper(regressor=LinearRegression(copy_X=True, fit_intercept=True, n_jobs=1, normalize=False)), 'scaler': None}, mean: 0.45521, std: 0.00451, params: {'binner': CustomBinaryBinner(configuration={'Medical_History_1': {'values': [0], 'bins': [1e-09, 10, 30, 100, 200, 241]}, 'Medical_History_10': {'values': [0, 240], 'bins': [1e-09, 240]}, 'Medical_History_15': {'values': [0, 240], 'bins': [1e-09, 240]}, 'Medical_History_24': {'values': [0, 240], 'bins': [1e-09, 240]}, 'Medical_History_32': {'values': [0, 240], 'bins': [1e-09, 240]}},\n          drop=False, nan=False), 'binner2': None, 'binner__drop': True, 'binner__nan': True, 'boxcox': None, 'clipper': None, 'predictor': LabelsClipper(regressor=LinearRegression(copy_X=True, fit_intercept=True, n_jobs=1, normalize=False)), 'scaler': None}, mean: 0.45736, std: 0.00515, params: {'binner': CustomBinaryBinner(configuration={'Medical_History_1': {'values': [0], 'bins': [1e-09, 10, 30, 100, 200, 241]}, 'Medical_History_10': {'values': [0, 240], 'bins': [1e-09, 240]}, 'Medical_History_15': {'values': [0, 240], 'bins': [1e-09, 240]}, 'Medical_History_24': {'values': [0, 240], 'bins': [1e-09, 240]}, 'Medical_History_32': {'values': [0, 240], 'bins': [1e-09, 240]}},\n          drop=False, nan=False), 'binner2': None, 'binner__drop': True, 'binner__nan': False, 'boxcox': None, 'clipper': None, 'predictor': LabelsClipper(regressor=LinearRegression(copy_X=True, fit_intercept=True, n_jobs=1, normalize=False)), 'scaler': None}, mean: 0.44833, std: 0.00241, params: {'binner': CustomBinaryBinner(configuration={'Medical_History_1': {'values': [0], 'bins': [1e-09, 10, 30, 100, 200, 241]}, 'Medical_History_10': {'values': [0, 240], 'bins': [1e-09, 240]}, 'Medical_History_15': {'values': [0, 240], 'bins': [1e-09, 240]}, 'Medical_History_24': {'values': [0, 240], 'bins': [1e-09, 240]}, 'Medical_History_32': {'values': [0, 240], 'bins': [1e-09, 240]}},\n          drop=False, nan=False), 'binner2': None, 'binner__drop': False, 'binner__nan': True, 'boxcox': None, 'clipper': None, 'predictor': LabelsClipper(regressor=LinearRegression(copy_X=True, fit_intercept=True, n_jobs=1, normalize=False)), 'scaler': None}, mean: 0.44809, std: 0.00212, params: {'binner': CustomBinaryBinner(configuration={'Medical_History_1': {'values': [0], 'bins': [1e-09, 10, 30, 100, 200, 241]}, 'Medical_History_10': {'values': [0, 240], 'bins': [1e-09, 240]}, 'Medical_History_15': {'values': [0, 240], 'bins': [1e-09, 240]}, 'Medical_History_24': {'values': [0, 240], 'bins': [1e-09, 240]}, 'Medical_History_32': {'values': [0, 240], 'bins': [1e-09, 240]}},\n          drop=False, nan=False), 'binner2': None, 'binner__drop': False, 'binner__nan': False, 'boxcox': None, 'clipper': None, 'predictor': LabelsClipper(regressor=LinearRegression(copy_X=True, fit_intercept=True, n_jobs=1, normalize=False)), 'scaler': None}]\n"
     ]
    }
   ],
   "source": [
    "import numpy\n",
    "numpy.set_printoptions(threshold=numpy.nan)\n",
    "print(\"GridSearchCV took %.2f seconds for %d candidate parameter settings.\"\n",
    "      % (end - start, len(grid.cv_results_['params'])))\n",
    "print(grid.grid_scores_)\n"
   ]
  },
  {
   "cell_type": "code",
   "execution_count": 48,
   "metadata": {},
   "outputs": [],
   "source": [
    "max_std = grid.cv_results_['std_test_score'].max()\n",
    "min_score = grid.cv_results_['mean_test_score'].min()\n",
    "max_score = grid.cv_results_['mean_test_score'].max()"
   ]
  },
  {
   "cell_type": "code",
   "execution_count": 41,
   "metadata": {},
   "outputs": [],
   "source": [
    "data = {'baseline': None, 'binner': {}, 'binary binner': {}}\n",
    "for score, std in zip(grid.grid_scores_,grid.cv_results_['std_test_score'] ):\n",
    "    if not score.parameters['binner']:\n",
    "        data['baseline'] = {\n",
    "            'basic': {\n",
    "                'mean': score.mean_validation_score,\n",
    "                'std': std,\n",
    "            }\n",
    "        }\n",
    "    elif isinstance(score.parameters['binner'], CustomBinner):\n",
    "        labels = []\n",
    "        if score.parameters['binner__nan']:\n",
    "            labels.append('nan')\n",
    "        if score.parameters['binner__drop']:\n",
    "            labels.append('drop')\n",
    "        if labels:\n",
    "            label = ', '.join(labels)\n",
    "        else:\n",
    "            label = 'basic'\n",
    "        data['binner'][label] ={\n",
    "                'mean': score.mean_validation_score,\n",
    "                'std': std,\n",
    "        }\n",
    "    elif isinstance(score.parameters['binner'], CustomBinaryBinner):\n",
    "        labels = []\n",
    "        if score.parameters['binner__nan']:\n",
    "            labels.append('nan')\n",
    "        if score.parameters['binner__drop']:\n",
    "            labels.append('drop')\n",
    "        if labels:\n",
    "            label = ', '.join(labels)\n",
    "        else:\n",
    "            label = 'basic'\n",
    "        data['binary binner'][label] = {\n",
    "                'mean': score.mean_validation_score,\n",
    "                'std': std,\n",
    "        }"
   ]
  },
  {
   "cell_type": "code",
   "execution_count": 55,
   "metadata": {},
   "outputs": [
    {
     "data": {
      "image/png": "[encoded data removed]",
      "text/plain": [
       "<matplotlib.figure.Figure at 0x7f21a3bcc748>"
      ]
     },
     "metadata": {},
     "output_type": "display_data"
    }
   ],
   "source": [
    "\n",
    "plot_results(data, save_path=\"./results/fig.png\", precision=2, ymax=1.01*max_score+max_std, ymin=0.99*min_score-max_std)"
   ]
  },
  {
   "cell_type": "code",
   "execution_count": 54,
   "metadata": {},
   "outputs": [],
   "source": [
    "import matplotlib.pyplot as plt\n",
    "import matplotlib.patches as mpatches\n",
    "\n",
    "W = 0.5\n",
    "W2 = 0.2\n",
    "W3 = 0.2\n",
    "\n",
    "def plot_results(data, title=None, ylabel='error', save_path=None, ymax=None, ymin=None, precision=4):\n",
    "    fig = plt.figure()\n",
    "    COLORS = 'bgrcmyk'\n",
    "    legend = {}\n",
    "    i = 0\n",
    "    for model, settings in data.items():\n",
    "        for setting in settings.keys():\n",
    "            if setting not in legend:\n",
    "                legend[setting] = COLORS[i % len(COLORS)]\n",
    "                i += 1\n",
    "    ticks = []\n",
    "    offsets = []\n",
    "    offset = 0\n",
    "    for model, settings in data.items():\n",
    "        offset += W\n",
    "        ticks.append(model)\n",
    "        offsets.append(offset + (len(settings) + 1) * W3 / 2.0)\n",
    "        for setting, results in settings.items():\n",
    "            offset += W2\n",
    "            plt.bar(offset, results['mean'], yerr=results['std'], width=W3, color=legend[setting])\n",
    "            plt.text(offset, results['mean'] - results['std'], \"{num:.{pr}f}\".format(num=results['mean'], pr=precision), ha='center', va='top', rotation='vertical')\n",
    "\n",
    "    if ymax != None:\n",
    "        plt.ylim(ymax=ymax)\n",
    "    if ymin != None:\n",
    "        plt.ylim(ymin=ymin)\n",
    "\n",
    "    if title:\n",
    "        plt.title(title)\n",
    "    plt.xticks(offsets, ticks)\n",
    "    if ylabel:\n",
    "        plt.ylabel(ylabel)\n",
    "    plt.legend(handles=[mpatches.Patch(color=c, label=l) for l, c in legend.items()], loc='best')\n",
    "    plt.show()\n",
    "\n",
    "    if save_path:\n",
    "        fig.savefig(save_path)"
   ]
  },
  {
   "cell_type": "code",
   "execution_count": null,
   "metadata": {},
   "outputs": [],
   "source": []
  }
 ],
 "metadata": {
  "kernelspec": {
   "display_name": "Python 2",
   "language": "python",
   "name": "python2"
  },
  "language_info": {
   "codemirror_mode": {
    "name": "ipython",
    "version": 2
   },
   "file_extension": ".py",
   "mimetype": "text/x-python",
   "name": "python",
   "nbconvert_exporter": "python",
   "pygments_lexer": "ipython2",
   "version": "2.7.6"
  }
 },
 "nbformat": 4,
 "nbformat_minor": 0
}
