{
 "cells": [
  {
   "cell_type": "code",
   "execution_count": 1,
   "metadata": {},
   "outputs": [],
   "source": [
    "from sklearn.model_selection import StratifiedKFold\n",
    "import pandas as pd\n",
    "import numpy as np\n",
    "from time import time\n",
    "import matplotlib.pyplot as plt\n",
    "from sklearn.linear_model import LogisticRegression, LinearRegression\n",
    "from sklearn.pipeline import Pipeline\n",
    "from sklearn.preprocessing import StandardScaler, RobustScaler\n",
    "from sklearn.metrics import make_scorer\n",
    "from sklearn.model_selection import cross_val_score, KFold, GridSearchCV\n",
    "from diagnostics.evaluation import rev_weighted_quad_kappa\n",
    "from diagnostics.evaluation import fit_and_eval, rev_weighted_quad_kappa, rmse, error_rate\n",
    "from imputers.zero_filler import ZeroFiller\n",
    "from tools.datasets import get_boston, get_heart, get_houses, get_prudential\n",
    "from diagnostics.grid_search import custom_grid_search\n",
    "from config import *\n",
    "from transformers import BoxCoxTransformer, LabelsClipper, OutliersClipper, CustomOneHotEncoder, CustomBinner, CustomBinaryBinner, FeatureDropper\n",
    "import warnings\n",
    "warnings.filterwarnings('ignore')"
   ]
  },
  {
   "cell_type": "code",
   "execution_count": 18,
   "metadata": {
    "collapsed": true
   },
   "outputs": [],
   "source": [
    "# cv = KFold(3, shuffle=True, random_state=0)\n",
    "# scorer = mean_squared_error\n",
    "# data, labels, continuous, discrete, dummy, categorical, target = get_boston()\n",
    "# data, labels, continuous, discrete, dummy, categorical, target = get_houses()\n",
    "# predictors = [LinearRegression()]\n",
    "\n",
    "# scorer = accuracy_score\n",
    "# data, labels, continuous, discrete, dummy, categorical, target = get_heart()\n",
    "# predictors = [LogisticRegression()]\n",
    "# cv = StratifiedKFold(3, labels)\n",
    "\n",
    "scorer = rev_weighted_quad_kappa\n",
    "data, labels, continuous, discrete, dummy, categorical, target = get_prudential()\n",
    "cv = StratifiedKFold(3)\n",
    "predictors = [LabelsClipper(regressor=LinearRegression())]\n",
    "\n",
    "train = data.drop(target, axis=1)"
   ]
  },
  {
   "cell_type": "code",
   "execution_count": 3,
   "metadata": {},
   "outputs": [],
   "source": [
    "# BINNER_CONFIG = { col: {'values': [train[col].max()]} for col in continuous + discrete }  # houses\n",
    "# BINNER_CONFIG = { col: {'bins': 3} for col in continuous + discrete }                               # heart\n",
    "BINNER_CONFIG = { col: {'bins': 5} for col in continuous }                                          # prudential\n",
    "# BINNER_CONFIG = { col: {'bins': 5} for col in continuous + discrete }                               # boston (or none)"
   ]
  },
  {
   "cell_type": "code",
   "execution_count": 4,
   "metadata": {},
   "outputs": [],
   "source": [
    "BOX_COX = BOX_COX_P\n",
    "model = Pipeline([\n",
    "        ('onehot',       CustomOneHotEncoder(columns=categorical)),\n",
    "        ('clipper', OutliersClipper(continuous)),\n",
    "        ('binner', CustomBinaryBinner({})),\n",
    "        ('binner2', CustomBinaryBinner({})),\n",
    "        ('zero_filler',  ZeroFiller()),\n",
    "        ('boxcox', BoxCoxTransformer(BOX_COX)),\n",
    "        ('scaler', StandardScaler()),\n",
    "        ('predictor',   None)  \n",
    "])"
   ]
  },
  {
   "cell_type": "code",
   "execution_count": 5,
   "metadata": {},
   "outputs": [],
   "source": [
    "\n",
    "params = [\n",
    "    { # BASELINE\n",
    "        'clipper': [None],\n",
    "        'binner': [None],\n",
    "        'binner2': [None],\n",
    "        'boxcox': [None],\n",
    "        'scaler': [None],\n",
    "        'predictor': predictors\n",
    "    },\n",
    "    { # BINNER\n",
    "        'clipper': [None],\n",
    "        'binner': [\n",
    "            CustomBinner(BINNER_CONFIG_PRUD)\n",
    "        ],\n",
    "        'binner__nan': [True, False],\n",
    "        'binner__drop': [True, False],\n",
    "        'binner2': [None],\n",
    "        'boxcox': [None],\n",
    "        'scaler': [None],\n",
    "        'predictor': predictors\n",
    "    },\n",
    "    { # BINNER Binary\n",
    "        'clipper': [None],\n",
    "        'binner': [\n",
    "            CustomBinaryBinner(BINARY_BINNER_CONFIG_PRUD)\n",
    "        ],\n",
    "        'binner__nan': [True, False],\n",
    "        'binner__drop': [True, False],\n",
    "        'binner2': [None],\n",
    "        'boxcox': [None],\n",
    "        'scaler': [None],\n",
    "        'predictor': predictors\n",
    "    },\n",
    "]"
   ]
  },
  {
   "cell_type": "code",
   "execution_count": 20,
   "metadata": {
    "collapsed": true
   },
   "outputs": [],
   "source": [
    "\n",
    "\n",
    "start = time()\n",
    "# grid = GridSearchCV(model, cv=cv, n_jobs=-1, param_grid=params, scoring=make_scorer(scorer))\n",
    "# grid.fit(train.copy(), labels)\n",
    "\n",
    "results = custom_grid_search(model, params, data, target, cv, scorer, outliers=None)\n",
    "\n",
    "end = time()"
   ]
  },
  {
   "cell_type": "code",
   "execution_count": 22,
   "metadata": {
    "collapsed": true
   },
   "outputs": [
    {
     "name": "stdout",
     "output_type": "stream",
     "text": [
      "GridSearchCV took 180.49 seconds for \n[{'score': 0.4624316341972352, 'std': 0.007798857439361163, 'params': {'binner': None, 'binner2': None, 'boxcox': None, 'clipper': None, 'predictor': LabelsClipper(regressor=LinearRegression(copy_X=True, fit_intercept=True, n_jobs=1, normalize=False)), 'scaler': None}}, {'score': 0.4535472570163875, 'std': 0.005056952763994587, 'params': {'binner': CustomBinner(configuration={'Medical_History_1': {'values': [0, 240], 'bins': [0, 1, 10, 30, 100, 200, 240]}, 'Medical_History_10': {'values': [0, 240], 'bins': [0, 1, 2, 240]}, 'Medical_History_15': {'values': [0, 240], 'bins': [0, 1, 2, 240]}, 'Medical_History_24': {'values': [0, 240], 'bins': [0, 1, 2, 240]}, 'Medical_History_32': {'values': [0, 240], 'bins': [0, 1, 2, 240]}},\n       drop=True, nan=True), 'binner2': None, 'binner__drop': True, 'binner__nan': True, 'boxcox': None, 'clipper': None, 'predictor': LabelsClipper(regressor=LinearRegression(copy_X=True, fit_intercept=True, n_jobs=1, normalize=False)), 'scaler': None}}, {'score': 0.4565673455043422, 'std': 0.004651698134752982, 'params': {'binner': CustomBinner(configuration={'Medical_History_1': {'values': [0, 240], 'bins': [0, 1, 10, 30, 100, 200, 240]}, 'Medical_History_10': {'values': [0, 240], 'bins': [0, 1, 2, 240]}, 'Medical_History_15': {'values': [0, 240], 'bins': [0, 1, 2, 240]}, 'Medical_History_24': {'values': [0, 240], 'bins': [0, 1, 2, 240]}, 'Medical_History_32': {'values': [0, 240], 'bins': [0, 1, 2, 240]}},\n       drop=True, nan=False), 'binner2': None, 'binner__drop': True, 'binner__nan': False, 'boxcox': None, 'clipper': None, 'predictor': LabelsClipper(regressor=LinearRegression(copy_X=True, fit_intercept=True, n_jobs=1, normalize=False)), 'scaler': None}}, {'score': 0.44698247430520105, 'std': 0.0027474780122524966, 'params': {'binner': CustomBinner(configuration={'Medical_History_1': {'values': [0, 240], 'bins': [0, 1, 10, 30, 100, 200, 240]}, 'Medical_History_10': {'values': [0, 240], 'bins': [0, 1, 2, 240]}, 'Medical_History_15': {'values': [0, 240], 'bins': [0, 1, 2, 240]}, 'Medical_History_24': {'values': [0, 240], 'bins': [0, 1, 2, 240]}, 'Medical_History_32': {'values': [0, 240], 'bins': [0, 1, 2, 240]}},\n       drop=False, nan=True), 'binner2': None, 'binner__drop': False, 'binner__nan': True, 'boxcox': None, 'clipper': None, 'predictor': LabelsClipper(regressor=LinearRegression(copy_X=True, fit_intercept=True, n_jobs=1, normalize=False)), 'scaler': None}}, {'score': 0.4464748286804065, 'std': 0.0030647365799968, 'params': {'binner': CustomBinner(configuration={'Medical_History_1': {'values': [0, 240], 'bins': [0, 1, 10, 30, 100, 200, 240]}, 'Medical_History_10': {'values': [0, 240], 'bins': [0, 1, 2, 240]}, 'Medical_History_15': {'values': [0, 240], 'bins': [0, 1, 2, 240]}, 'Medical_History_24': {'values': [0, 240], 'bins': [0, 1, 2, 240]}, 'Medical_History_32': {'values': [0, 240], 'bins': [0, 1, 2, 240]}},\n       drop=False, nan=False), 'binner2': None, 'binner__drop': False, 'binner__nan': False, 'boxcox': None, 'clipper': None, 'predictor': LabelsClipper(regressor=LinearRegression(copy_X=True, fit_intercept=True, n_jobs=1, normalize=False)), 'scaler': None}}, {'score': 0.4565545920203829, 'std': 0.005341764288332258, 'params': {'binner': CustomBinaryBinner(configuration={'Medical_History_1': {'values': [0], 'bins': [1e-09, 10, 30, 100, 200, 241]}, 'Medical_History_10': {'values': [0, 240], 'bins': [1e-09, 240]}, 'Medical_History_15': {'values': [0, 240], 'bins': [1e-09, 240]}, 'Medical_History_24': {'values': [0, 240], 'bins': [1e-09, 240]}, 'Medical_History_32': {'values': [0, 240], 'bins': [1e-09, 240]}},\n          drop=True, nan=True), 'binner2': None, 'binner__drop': True, 'binner__nan': True, 'boxcox': None, 'clipper': None, 'predictor': LabelsClipper(regressor=LinearRegression(copy_X=True, fit_intercept=True, n_jobs=1, normalize=False)), 'scaler': None}}, {'score': 0.4562118616563023, 'std': 0.004737984914723237, 'params': {'binner': CustomBinaryBinner(configuration={'Medical_History_1': {'values': [0], 'bins': [1e-09, 10, 30, 100, 200, 241]}, 'Medical_History_10': {'values': [0, 240], 'bins': [1e-09, 240]}, 'Medical_History_15': {'values': [0, 240], 'bins': [1e-09, 240]}, 'Medical_History_24': {'values': [0, 240], 'bins': [1e-09, 240]}, 'Medical_History_32': {'values': [0, 240], 'bins': [1e-09, 240]}},\n          drop=True, nan=False), 'binner2': None, 'binner__drop': True, 'binner__nan': False, 'boxcox': None, 'clipper': None, 'predictor': LabelsClipper(regressor=LinearRegression(copy_X=True, fit_intercept=True, n_jobs=1, normalize=False)), 'scaler': None}}, {'score': 0.44936712492613573, 'std': 0.0034072667614986375, 'params': {'binner': CustomBinaryBinner(configuration={'Medical_History_1': {'values': [0], 'bins': [1e-09, 10, 30, 100, 200, 241]}, 'Medical_History_10': {'values': [0, 240], 'bins': [1e-09, 240]}, 'Medical_History_15': {'values': [0, 240], 'bins': [1e-09, 240]}, 'Medical_History_24': {'values': [0, 240], 'bins': [1e-09, 240]}, 'Medical_History_32': {'values': [0, 240], 'bins': [1e-09, 240]}},\n          drop=False, nan=True), 'binner2': None, 'binner__drop': False, 'binner__nan': True, 'boxcox': None, 'clipper': None, 'predictor': LabelsClipper(regressor=LinearRegression(copy_X=True, fit_intercept=True, n_jobs=1, normalize=False)), 'scaler': None}}, {'score': 0.44836532703090826, 'std': 0.0022873527051151745, 'params': {'binner': CustomBinaryBinner(configuration={'Medical_History_1': {'values': [0], 'bins': [1e-09, 10, 30, 100, 200, 241]}, 'Medical_History_10': {'values': [0, 240], 'bins': [1e-09, 240]}, 'Medical_History_15': {'values': [0, 240], 'bins': [1e-09, 240]}, 'Medical_History_24': {'values': [0, 240], 'bins': [1e-09, 240]}, 'Medical_History_32': {'values': [0, 240], 'bins': [1e-09, 240]}},\n          drop=False, nan=False), 'binner2': None, 'binner__drop': False, 'binner__nan': False, 'boxcox': None, 'clipper': None, 'predictor': LabelsClipper(regressor=LinearRegression(copy_X=True, fit_intercept=True, n_jobs=1, normalize=False)), 'scaler': None}}]\n"
     ]
    }
   ],
   "source": [
    "import numpy\n",
    "# numpy.set_printoptions(threshold=numpy.nan)\n",
    "print(\"GridSearchCV took %.2f seconds for \"\n",
    "      % (end - start, ))\n",
    "print(results)\n"
   ]
  },
  {
   "cell_type": "code",
   "execution_count": 23,
   "metadata": {},
   "outputs": [],
   "source": [
    "# max_std = grid.cv_results_['std_test_score'].max()\n",
    "# min_score = grid.cv_results_['mean_test_score'].min()\n",
    "# max_score = grid.cv_results_['mean_test_score'].max()\n",
    "max_std = max(r['std'] for r in results)\n",
    "max_score = max(r['score'] for r in results)\n",
    "min_score = min(r['score'] for r in results)"
   ]
  },
  {
   "cell_type": "code",
   "execution_count": 24,
   "metadata": {},
   "outputs": [
    {
     "ename": "NameError",
     "evalue": "name 'grid' is not defined",
     "traceback": [
      "\u001b[0;31m---------------------------------------------------------------------------\u001b[0m",
      "\u001b[0;31mNameError\u001b[0m                                 Traceback (most recent call last)",
      "\u001b[0;32m<ipython-input-24-6dd77ee7b7f3>\u001b[0m in \u001b[0;36m<module>\u001b[0;34m()\u001b[0m\n\u001b[1;32m      1\u001b[0m \u001b[0mdata\u001b[0m \u001b[0;34m=\u001b[0m \u001b[0;34m{\u001b[0m\u001b[0;34m'baseline'\u001b[0m\u001b[0;34m:\u001b[0m \u001b[0;32mNone\u001b[0m\u001b[0;34m,\u001b[0m \u001b[0;34m'binner'\u001b[0m\u001b[0;34m:\u001b[0m \u001b[0;34m{\u001b[0m\u001b[0;34m}\u001b[0m\u001b[0;34m,\u001b[0m \u001b[0;34m'binary binner'\u001b[0m\u001b[0;34m:\u001b[0m \u001b[0;34m{\u001b[0m\u001b[0;34m}\u001b[0m\u001b[0;34m}\u001b[0m\u001b[0;34m\u001b[0m\u001b[0m\n\u001b[0;32m----> 2\u001b[0;31m \u001b[0;32mfor\u001b[0m \u001b[0mscore\u001b[0m\u001b[0;34m,\u001b[0m \u001b[0mstd\u001b[0m \u001b[0;32min\u001b[0m \u001b[0mzip\u001b[0m\u001b[0;34m(\u001b[0m\u001b[0mgrid\u001b[0m\u001b[0;34m.\u001b[0m\u001b[0mgrid_scores_\u001b[0m\u001b[0;34m,\u001b[0m\u001b[0mgrid\u001b[0m\u001b[0;34m.\u001b[0m\u001b[0mcv_results_\u001b[0m\u001b[0;34m[\u001b[0m\u001b[0;34m'std_test_score'\u001b[0m\u001b[0;34m]\u001b[0m \u001b[0;34m)\u001b[0m\u001b[0;34m:\u001b[0m\u001b[0;34m\u001b[0m\u001b[0m\n\u001b[0m\u001b[1;32m      3\u001b[0m     \u001b[0;32mif\u001b[0m \u001b[0;32mnot\u001b[0m \u001b[0mscore\u001b[0m\u001b[0;34m.\u001b[0m\u001b[0mparameters\u001b[0m\u001b[0;34m[\u001b[0m\u001b[0;34m'binner'\u001b[0m\u001b[0;34m]\u001b[0m\u001b[0;34m:\u001b[0m\u001b[0;34m\u001b[0m\u001b[0m\n\u001b[1;32m      4\u001b[0m         data['baseline'] = {\n\u001b[1;32m      5\u001b[0m             'basic': {\n",
      "\u001b[0;31mNameError\u001b[0m: name 'grid' is not defined"
     ],
     "output_type": "error"
    }
   ],
   "source": [
    "data = {'baseline': None, 'binner': {}, 'binary binner': {}}\n",
    "for score, std in zip(grid.grid_scores_,grid.cv_results_['std_test_score'] ):\n",
    "    if not score.parameters['binner']:\n",
    "        data['baseline'] = {\n",
    "            'basic': {\n",
    "                'mean': score.mean_validation_score,\n",
    "                'std': std,\n",
    "            }\n",
    "        }\n",
    "    elif isinstance(score.parameters['binner'], CustomBinner):\n",
    "        labels = []\n",
    "        if score.parameters['binner__nan']:\n",
    "            labels.append('nan')\n",
    "        if score.parameters['binner__drop']:\n",
    "            labels.append('drop')\n",
    "        if labels:\n",
    "            label = ', '.join(labels)\n",
    "        else:\n",
    "            label = 'basic'\n",
    "        data['binner'][label] ={\n",
    "                'mean': score.mean_validation_score,\n",
    "                'std': std,\n",
    "        }\n",
    "    elif isinstance(score.parameters['binner'], CustomBinaryBinner):\n",
    "        labels = []\n",
    "        if score.parameters['binner__nan']:\n",
    "            labels.append('nan')\n",
    "        if score.parameters['binner__drop']:\n",
    "            labels.append('drop')\n",
    "        if labels:\n",
    "            label = ', '.join(labels)\n",
    "        else:\n",
    "            label = 'basic'\n",
    "        data['binary binner'][label] = {\n",
    "                'mean': score.mean_validation_score,\n",
    "                'std': std,\n",
    "        }"
   ]
  },
  {
   "cell_type": "code",
   "execution_count": 27,
   "metadata": {},
   "outputs": [],
   "source": [
    "data = {'baseline': None, 'binner': {}, 'binary binner': {}}\n",
    "for result in results:\n",
    "    if not result['params']['binner']:\n",
    "        data['baseline'] = {\n",
    "            'basic': {\n",
    "                'mean': result['score'],\n",
    "                'std': result['std'],\n",
    "            }\n",
    "        }\n",
    "    elif isinstance(result['params']['binner'], CustomBinner):\n",
    "        labels = []\n",
    "        if result['params']['binner__nan']:\n",
    "            labels.append('nan')\n",
    "        if result['params']['binner__drop']:\n",
    "            labels.append('drop')\n",
    "        if labels:\n",
    "            label = ', '.join(labels)\n",
    "        else:\n",
    "            label = 'basic'\n",
    "        data['binner'][label] ={\n",
    "                'mean': result['score'],\n",
    "                'std': result['std'],\n",
    "        }\n",
    "    elif isinstance(result['params']['binner'], CustomBinaryBinner):\n",
    "        labels = []\n",
    "        if result['params']['binner__nan']:\n",
    "            labels.append('nan')\n",
    "        if result['params']['binner__drop']:\n",
    "            labels.append('drop')\n",
    "        if labels:\n",
    "            label = ', '.join(labels)\n",
    "        else:\n",
    "            label = 'basic'\n",
    "        data['binary binner'][label] = {\n",
    "                'mean': result['score'],\n",
    "                'std': result['std'],\n",
    "        }"
   ]
  },
  {
   "cell_type": "code",
   "execution_count": 28,
   "metadata": {},
   "outputs": [
    {
     "data": {
      "image/png": "[encoded data removed]",
      "text/plain": [
       "<matplotlib.figure.Figure at 0x7ff6e1fe6240>"
      ]
     },
     "metadata": {},
     "output_type": "display_data"
    }
   ],
   "source": [
    "from visualization.plot_results import plot_results\n",
    "plot_results(data, save_path=\"./results/fig3.png\", precision=4, ymax=1.01*max_score+max_std, ymin=0.99*min_score-max_std)"
   ]
  },
  {
   "cell_type": "code",
   "execution_count": 41,
   "metadata": {},
   "outputs": [],
   "source": [
    "import json\n",
    "import pickle\n",
    "from collections import defaultdict\n",
    "\n",
    "def plot_and_save_results(results, get_model_and_label, path, precision=4, ymax_alpha=1.01, ymin_alpha=0.99, robust=False):\n",
    "    max_std = max(r['std'] for r in results)\n",
    "    max_score = max(r['score'] for r in results)\n",
    "    min_score = min(r['score'] for r in results)\n",
    "    output = defaultdict(dict)\n",
    "    try:\n",
    "        for result in results:\n",
    "            model_name, label= get_model_and_label(result['params'])\n",
    "            output[model_name][label] = {\n",
    "                'mean': result['score'],\n",
    "                'std': result['std'],\n",
    "            }\n",
    "    except Exception as e:\n",
    "        if robust:\n",
    "            with open(path + \"_error.p\", 'wb') as fp:\n",
    "                pickle.dump(results, fp, protocol=pickle.HIGHEST_PROTOCOL)\n",
    "        print('Error occured', e)\n",
    "        return \n",
    "    \n",
    "    plot_results(output, save_path=path + \".png\", precision=precision, ymax=ymax_alpha*max_score+max_std, ymin=ymin_alpha*min_score-max_std)\n",
    "    with open(path + '.json', 'w') as fp:\n",
    "        json.dump(output, fp, indent=4)\n",
    "    return output\n"
   ]
  },
  {
   "cell_type": "code",
   "execution_count": 44,
   "metadata": {},
   "outputs": [],
   "source": [
    "def get_class(params):\n",
    "    if not params['binner']:\n",
    "        return 'baseline', 'basic'\n",
    "    elif isinstance(params['binner'], CustomBinner):\n",
    "        model_name = 'binner'\n",
    "    elif isinstance(params['binner'], CustomBinaryBinner):\n",
    "        model_name = 'binnary binner'\n",
    "    else:\n",
    "        model_name = 'other?'\n",
    "        \n",
    "    labels = []\n",
    "    if params['binner__nan']:\n",
    "        labels.append('nan')\n",
    "    if params['binner__drop']:\n",
    "        labels.append('drop')\n",
    "    if labels:\n",
    "        label = ', '.join(labels)\n",
    "    else:\n",
    "        label = 'basic'\n",
    "    return model_name, label\n"
   ]
  },
  {
   "cell_type": "code",
   "execution_count": 45,
   "metadata": {},
   "outputs": [
    {
     "data": {
      "image/png": "[encoded data removed]",
      "text/plain": [
       "<matplotlib.figure.Figure at 0x7ff6df763898>"
      ]
     },
     "metadata": {},
     "output_type": "display_data"
    },
    {
     "data": {
      "text/plain": [
       "defaultdict(dict,\n            {'baseline': {'basic': {'mean': 0.4624316341972352,\n               'std': 0.007798857439361163}},\n             'binnary binner': {'basic': {'mean': 0.44836532703090826,\n               'std': 0.0022873527051151745},\n              'drop': {'mean': 0.4562118616563023,\n               'std': 0.004737984914723237},\n              'nan': {'mean': 0.44936712492613573,\n               'std': 0.0034072667614986375},\n              'nan, drop': {'mean': 0.4565545920203829,\n               'std': 0.005341764288332258}},\n             'binner': {'basic': {'mean': 0.4464748286804065,\n               'std': 0.0030647365799968},\n              'drop': {'mean': 0.4565673455043422,\n               'std': 0.004651698134752982},\n              'nan': {'mean': 0.44698247430520105,\n               'std': 0.0027474780122524966},\n              'nan, drop': {'mean': 0.4535472570163875,\n               'std': 0.005056952763994587}}})"
      ]
     },
     "execution_count": 45,
     "metadata": {},
     "output_type": "execute_result"
    }
   ],
   "source": [
    "plot_and_save_results(results, get_class, './results/binning')"
   ]
  },
  {
   "cell_type": "code",
   "execution_count": null,
   "metadata": {},
   "outputs": [],
   "source": [
    "result"
   ]
  }
 ],
 "metadata": {
  "kernelspec": {
   "display_name": "Python 2",
   "language": "python",
   "name": "python2"
  },
  "language_info": {
   "codemirror_mode": {
    "name": "ipython",
    "version": 2
   },
   "file_extension": ".py",
   "mimetype": "text/x-python",
   "name": "python",
   "nbconvert_exporter": "python",
   "pygments_lexer": "ipython2",
   "version": "2.7.6"
  }
 },
 "nbformat": 4,
 "nbformat_minor": 0
}
