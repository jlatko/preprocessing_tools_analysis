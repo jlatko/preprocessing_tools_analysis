{
 "cells": [
  {
   "cell_type": "code",
   "execution_count": 1,
   "metadata": {},
   "outputs": [],
   "source": [
    "import pickle\n",
    "import json\n",
    "import numpy as np\n",
    "import pandas as pd\n",
    "import matplotlib.pyplot as plt"
   ]
  },
  {
   "cell_type": "code",
   "execution_count": 2,
   "metadata": {
    "collapsed": true
   },
   "outputs": [],
   "source": [
    "with open('/home/johnny/Desktop/thesis/old_results/grid/best2_boston_grid.b', 'rb') as f:                                       \n",
    "    results = pickle.load(f) "
   ]
  },
  {
   "cell_type": "code",
   "execution_count": 6,
   "metadata": {},
   "outputs": [],
   "source": [
    "s = sorted(results[0], key=lambda a: a['score'])          \n",
    "best = {}\n",
    "\n"
   ]
  },
  {
   "cell_type": "code",
   "execution_count": 7,
   "metadata": {
    "collapsed": false
   },
   "outputs": [],
   "source": [
    "for x in s:                                                                                      \n",
    "    if not type(x['params']['predictor']).__name__ in best:      \n",
    "        best[type(x['params']['predictor']).__name__] = x  "
   ]
  },
  {
   "cell_type": "code",
   "execution_count": 5,
   "metadata": {},
   "outputs": [
    {
     "ename": "AttributeError",
     "evalue": "'XGBRegressor' object has no attribute 'regressor'",
     "traceback": [
      "\u001b[0;31m---------------------------------------------------------------------------\u001b[0m",
      "\u001b[0;31mAttributeError\u001b[0m                            Traceback (most recent call last)",
      "\u001b[0;32m<ipython-input-5-b23ae0c37a8b>\u001b[0m in \u001b[0;36m<module>\u001b[0;34m()\u001b[0m\n\u001b[1;32m      1\u001b[0m \u001b[0;32mfor\u001b[0m \u001b[0mx\u001b[0m \u001b[0;32min\u001b[0m \u001b[0ms\u001b[0m\u001b[0;34m:\u001b[0m\u001b[0;34m\u001b[0m\u001b[0m\n\u001b[0;32m----> 2\u001b[0;31m     \u001b[0;32mif\u001b[0m \u001b[0;32mnot\u001b[0m \u001b[0mtype\u001b[0m\u001b[0;34m(\u001b[0m\u001b[0mx\u001b[0m\u001b[0;34m[\u001b[0m\u001b[0;34m'params'\u001b[0m\u001b[0;34m]\u001b[0m\u001b[0;34m[\u001b[0m\u001b[0;34m'predictor'\u001b[0m\u001b[0;34m]\u001b[0m\u001b[0;34m.\u001b[0m\u001b[0mregressor\u001b[0m\u001b[0;34m)\u001b[0m\u001b[0;34m.\u001b[0m\u001b[0m__name__\u001b[0m \u001b[0;32min\u001b[0m \u001b[0mbest\u001b[0m\u001b[0;34m:\u001b[0m\u001b[0;34m\u001b[0m\u001b[0m\n\u001b[0m\u001b[1;32m      3\u001b[0m         \u001b[0mbest\u001b[0m\u001b[0;34m[\u001b[0m\u001b[0mtype\u001b[0m\u001b[0;34m(\u001b[0m\u001b[0mx\u001b[0m\u001b[0;34m[\u001b[0m\u001b[0;34m'params'\u001b[0m\u001b[0;34m]\u001b[0m\u001b[0;34m[\u001b[0m\u001b[0;34m'predictor'\u001b[0m\u001b[0;34m]\u001b[0m\u001b[0;34m.\u001b[0m\u001b[0mregressor\u001b[0m\u001b[0;34m)\u001b[0m\u001b[0;34m.\u001b[0m\u001b[0m__name__\u001b[0m\u001b[0;34m]\u001b[0m \u001b[0;34m=\u001b[0m \u001b[0mx\u001b[0m\u001b[0;34m\u001b[0m\u001b[0m\n",
      "\u001b[0;31mAttributeError\u001b[0m: 'XGBRegressor' object has no attribute 'regressor'"
     ],
     "output_type": "error"
    }
   ],
   "source": [
    "for x in s:                                                                                      \n",
    "    if not type(x['params']['predictor'].regressor).__name__ in best:      \n",
    "        best[type(x['params']['predictor'].regressor).__name__] = x  "
   ]
  },
  {
   "cell_type": "code",
   "execution_count": 8,
   "metadata": {},
   "outputs": [
    {
     "data": {
      "text/plain": [
       "{'DecisionTreeRegressor': {'params': {'binner2': None,\n   'boxcox': BoxCoxTransformer(lambdas_per_column={'age': 2, 'tax': 0, 'lstat': 0}),\n   'clipper': OutliersClipper(columns=['crim', 'zn', 'nox', 'indus', 'rm', 'age', 'tax', 'ptratio', 'b', 'lstat', 'dis']),\n   'combinations': None,\n   'dropper__drop': [],\n   'main_imputer': ModelBasedFullImputer(columns=['crim', 'zn', 'nox', 'indus', 'rm', 'age', 'tax', 'ptratio', 'b', 'dis'],\n              model=DecisionTreeRegressor(criterion='mse', max_depth=None, max_features=None,\n              max_leaf_nodes=None, min_impurity_decrease=0.0,\n              min_impurity_split=None, min_samples_leaf=1,\n              min_samples_split=2, min_weight_fraction_leaf=0.0,\n              presort=False, random_state=None, splitter='best')),\n   'poly': None,\n   'predictor': DecisionTreeRegressor(criterion='mse', max_depth=8, max_features=None,\n              max_leaf_nodes=None, min_impurity_decrease=0.0,\n              min_impurity_split=None, min_samples_leaf=1,\n              min_samples_split=2, min_weight_fraction_leaf=0.0,\n              presort=False, random_state=None, splitter='best'),\n   'reduce_dim': None,\n   'scaler': None,\n   'simple_imputer': FillNaTransformer(from_dict={}, mean=[],\n            median=['crim', 'zn', 'nox', 'indus', 'rm', 'age', 'tax', 'ptratio', 'b', 'dis'],\n            nan_flag=['crim', 'zn', 'nox', 'indus', 'rm', 'age', 'tax', 'ptratio', 'b', 'dis'],\n            zero=[])},\n  'score': 4.840076015850126,\n  'std': 0.718619669114889},\n 'Lasso': {'params': {'binner2': None,\n   'boxcox': BoxCoxTransformer(lambdas_per_column={'age': 2, 'tax': 0, 'lstat': 0}),\n   'clipper': OutliersClipper(columns=['crim', 'zn', 'nox', 'indus', 'rm', 'age', 'tax', 'ptratio', 'b', 'lstat', 'dis']),\n   'combinations': FeatureProduct(columns=['crim', 'zn', 'nox', 'indus', 'rm', 'age', 'tax', 'ptratio', 'b', 'lstat', 'dis']),\n   'dropper__drop': ['crim_nan',\n    'zn_nan',\n    'nox_nan',\n    'indus_nan',\n    'rm_nan',\n    'age_nan',\n    'tax_nan',\n    'ptratio_nan',\n    'b_nan',\n    'dis_nan'],\n   'main_imputer': ModelBasedFullImputer(columns=['crim', 'zn', 'nox', 'indus', 'rm', 'age', 'tax', 'ptratio', 'b', 'dis'],\n              model=LinearRegression(copy_X=True, fit_intercept=True, n_jobs=1, normalize=False)),\n   'poly': None,\n   'predictor': Lasso(alpha=0.01, copy_X=True, fit_intercept=True, max_iter=1000,\n      normalize=False, positive=False, precompute=False, random_state=None,\n      selection='cyclic', tol=0.0001, warm_start=False),\n   'reduce_dim': None,\n   'scaler': None,\n   'simple_imputer': FillNaTransformer(from_dict={}, mean=[], median=[],\n            nan_flag=['crim', 'zn', 'nox', 'indus', 'rm', 'age', 'tax', 'ptratio', 'b', 'dis'],\n            zero=['crim', 'zn', 'nox', 'indus', 'rm', 'age', 'tax', 'ptratio', 'b', 'dis'])},\n  'score': 4.158920818855294,\n  'std': 0.4819794040981209},\n 'LinearRegression': {'params': {'binner2': None,\n   'boxcox': BoxCoxTransformer(lambdas_per_column={'age': 2, 'tax': 0, 'lstat': 0}),\n   'clipper': OutliersClipper(columns=['crim', 'zn', 'nox', 'indus', 'rm', 'age', 'tax', 'ptratio', 'b', 'lstat', 'dis']),\n   'combinations': None,\n   'dropper__drop': ['crim_nan',\n    'zn_nan',\n    'nox_nan',\n    'indus_nan',\n    'rm_nan',\n    'age_nan',\n    'tax_nan',\n    'ptratio_nan',\n    'b_nan',\n    'dis_nan'],\n   'main_imputer': ModelBasedFullImputer(columns=['crim', 'zn', 'nox', 'indus', 'rm', 'age', 'tax', 'ptratio', 'b', 'dis'],\n              model=DecisionTreeRegressor(criterion='mse', max_depth=8, max_features=None,\n              max_leaf_nodes=None, min_impurity_decrease=0.0,\n              min_impurity_split=None, min_samples_leaf=1,\n              min_samples_split=2, min_weight_fraction_leaf=0.0,\n              presort=False, random_state=None, splitter='best')),\n   'poly': PolynomialsAdder(powers_per_column={'crim': [2, 3], 'zn': [2, 3], 'nox': [2, 3], 'indus': [2, 3], 'rm': [2, 3], 'age': [2, 3], 'tax': [2, 3], 'ptratio': [2, 3], 'b': [2, 3], 'lstat': [2, 3], 'dis': [2, 3]}),\n   'predictor': LinearRegression(copy_X=True, fit_intercept=True, n_jobs=1, normalize=False),\n   'reduce_dim': None,\n   'scaler': None,\n   'simple_imputer': FillNaTransformer(from_dict={}, mean=[],\n            median=['crim', 'zn', 'nox', 'indus', 'rm', 'age', 'tax', 'ptratio', 'b', 'dis'],\n            nan_flag=['crim', 'zn', 'nox', 'indus', 'rm', 'age', 'tax', 'ptratio', 'b', 'dis'],\n            zero=[])},\n  'score': 4.514645815970899,\n  'std': 0.7631593234069367},\n 'XGBRegressor': {'params': {'binner2': None,\n   'boxcox': BoxCoxTransformer(lambdas_per_column={'age': 2, 'tax': 0, 'lstat': 0}),\n   'clipper': OutliersClipper(columns=['crim', 'zn', 'nox', 'indus', 'rm', 'age', 'tax', 'ptratio', 'b', 'lstat', 'dis']),\n   'combinations': None,\n   'dropper__drop': [],\n   'main_imputer': ModelBasedFullImputer(columns=['crim', 'zn', 'nox', 'indus', 'rm', 'age', 'tax', 'ptratio', 'b', 'dis'],\n              model=DecisionTreeRegressor(criterion='mse', max_depth=None, max_features=None,\n              max_leaf_nodes=None, min_impurity_decrease=0.0,\n              min_impurity_split=None, min_samples_leaf=1,\n              min_samples_split=2, min_weight_fraction_leaf=0.0,\n              presort=False, random_state=None, splitter='best')),\n   'poly': PolynomialsAdder(powers_per_column={'crim': [2, 3], 'zn': [2, 3], 'nox': [2, 3], 'indus': [2, 3], 'rm': [2, 3], 'age': [2, 3], 'tax': [2, 3], 'ptratio': [2, 3], 'b': [2, 3], 'lstat': [2, 3], 'dis': [2, 3]}),\n   'predictor': XGBRegressor(base_score=0.5, booster='gbtree', colsample_bylevel=1,\n          colsample_bytree=0.6, gamma=0, learning_rate=0.05, max_delta_step=0,\n          max_depth=6, min_child_weight=1, missing=nan, n_estimators=500,\n          n_jobs=1, nthread=None, objective='reg:linear', random_state=0,\n          reg_alpha=0, reg_lambda=1, scale_pos_weight=1, seed=None,\n          silent=True, subsample=1),\n   'reduce_dim': None,\n   'scaler': None,\n   'simple_imputer': FillNaTransformer(from_dict={}, mean=[],\n            median=['crim', 'zn', 'nox', 'indus', 'rm', 'age', 'tax', 'ptratio', 'b', 'dis'],\n            nan_flag=['crim', 'zn', 'nox', 'indus', 'rm', 'age', 'tax', 'ptratio', 'b', 'dis'],\n            zero=[])},\n  'score': 3.7821358047127682,\n  'std': 0.4967512627490983}}"
      ]
     },
     "execution_count": 8,
     "metadata": {},
     "output_type": "execute_result"
    }
   ],
   "source": [
    "best"
   ]
  },
  {
   "cell_type": "code",
   "execution_count": 9,
   "metadata": {},
   "outputs": [],
   "source": []
  }
 ],
 "metadata": {
  "kernelspec": {
   "display_name": "Python 2",
   "language": "python",
   "name": "python2"
  },
  "language_info": {
   "codemirror_mode": {
    "name": "ipython",
    "version": 2
   },
   "file_extension": ".py",
   "mimetype": "text/x-python",
   "name": "python",
   "nbconvert_exporter": "python",
   "pygments_lexer": "ipython2",
   "version": "2.7.6"
  }
 },
 "nbformat": 4,
 "nbformat_minor": 0
}
