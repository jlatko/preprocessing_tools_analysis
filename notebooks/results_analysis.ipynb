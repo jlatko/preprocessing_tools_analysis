{
 "cells": [
  {
   "cell_type": "code",
   "execution_count": 1,
   "metadata": {},
   "outputs": [],
   "source": [
    "import pickle\n",
    "import json\n",
    "import numpy as np\n",
    "import pandas as pd\n",
    "import matplotlib.pyplot as plt"
   ]
  },
  {
   "cell_type": "code",
   "execution_count": 2,
   "metadata": {
    "collapsed": true
   },
   "outputs": [],
   "source": [
    "with open('results/best2_prudential_grid.b', 'rb') as f:                                       \n",
    "    results = pickle.load(f) "
   ]
  },
  {
   "cell_type": "code",
   "execution_count": 3,
   "metadata": {},
   "outputs": [],
   "source": [
    "s = sorted(results[0], key=lambda a: a['score'])          \n",
    "best = {}\n",
    "\n"
   ]
  },
  {
   "cell_type": "code",
   "execution_count": 50,
   "metadata": {
    "collapsed": false
   },
   "outputs": [],
   "source": [
    "for x in s:                                                                                      \n",
    "    if not type(x['params']['predictor']).__name__ in best:      \n",
    "        best[type(x['params']['predictor']).__name__] = x  "
   ]
  },
  {
   "cell_type": "code",
   "execution_count": 4,
   "metadata": {},
   "outputs": [],
   "source": [
    "for x in s:                                                                                      \n",
    "    if not type(x['params']['predictor'].regressor).__name__ in best:      \n",
    "        best[type(x['params']['predictor'].regressor).__name__] = x  "
   ]
  },
  {
   "cell_type": "code",
   "execution_count": 5,
   "metadata": {},
   "outputs": [
    {
     "data": {
      "text/plain": [
       "{'LinearRegression': {'params': {'binner': CustomBinner(configuration={'Medical_History_1': {'values': [0, 240], 'bins': [0, 1, 10, 30, 100, 200, 240]}, 'Medical_History_10': {'values': [0, 240], 'bins': [0, 1, 2, 240]}, 'Medical_History_15': {'values': [0, 240], 'bins': [0, 1, 2, 240]}, 'Medical_History_24': {'values': [0, 240], 'bins': [0, 1, 2, 240]}, 'Medical_History_32': {'values': [0, 240], 'bins': [0, 1, 2, 240]}},\n          drop=False, nan=False),\n   'binner2': CustomBinaryBinner(configuration={'Product_Info_4': {'bins': 7}, 'Ins_Age': {'bins': 7}, 'Ht': {'bins': 7}, 'Wt': {'bins': 7}, 'BMI': {'bins': 7}, 'Employment_Info_1': {'bins': 7}, 'Employment_Info_4': {'bins': 7}, 'Employment_Info_6': {'bins': 7}, 'Insurance_History_5': {'bins': 7}, 'Family_Hist_2': {'bins': 7}, 'Family_Hist_3': {'bins': 7}, 'Family_Hist_4': {'bins': 7}, 'Family_Hist_5': {'bins': 7}},\n             drop=False, nan=False),\n   'boxcox': BoxCoxTransformer(lambdas_per_column={'Wt': 0.5}),\n   'combinations': FeatureProduct(columns=['Product_Info_4', 'Ins_Age', 'Ht', 'Wt', 'BMI', 'Employment_Info_1', 'Employment_Info_4', 'Employment_Info_6', 'Insurance_History_5', 'Family_Hist_2', 'Family_Hist_3', 'Family_Hist_4', 'Family_Hist_5']),\n   'dropper__drop': [],\n   'main_imputer': ModelBasedFullImputer(columns=['Product_Info_4', 'Ins_Age', 'Ht', 'Wt', 'BMI', 'Employment_Info_1', 'Employment_Info_4', 'Employment_Info_6', 'Insurance_History_5', 'Family_Hist_2', 'Family_Hist_3', 'Family_Hist_4', 'Family_Hist_5', 'Medical_History_1', 'Medical_History_10', 'Medical_History_15', 'Medical_History_24', 'Medical_History_32'],\n              model=XGBRegressor(base_score=0.5, booster='gbtree', colsample_bylevel=1,\n          colsample_bytree=1, gamma=0, learning_rate=0.1, max_delta_step=0,\n          max_depth=3, min_child_weight=1, missing=nan, n_estimators=100,\n          n_jobs=1, nthread=None, objective='reg:linear', random_state=0,\n          reg_alpha=0, reg_lambda=1, scale_pos_weight=1, seed=None,\n          silent=True, subsample=1)),\n   'poly': PolynomialsAdder(powers_per_column={'Product_Info_4': [2, 3], 'Ins_Age': [2, 3], 'Ht': [2, 3], 'Wt': [2, 3], 'BMI': [2, 3], 'Employment_Info_1': [2, 3], 'Employment_Info_4': [2, 3], 'Employment_Info_6': [2, 3], 'Insurance_History_5': [2, 3], 'Family_Hist_2': [2, 3], 'Family_Hist_3': [2, 3], 'Family_Hist_4': [2, 3], 'Family_Hist_5': [2, 3]}),\n   'predictor': LabelsClipper(regressor=LinearRegression(copy_X=True, fit_intercept=True, n_jobs=4, normalize=False)),\n   'reduce_dim': SelectFromModel(estimator=Lasso(alpha=0.0001, copy_X=True, fit_intercept=True, max_iter=1000,\n      normalize=False, positive=False, precompute=False, random_state=None,\n      selection='cyclic', tol=0.0001, warm_start=False),\n           norm_order=1, prefit=False, threshold=None),\n   'scaler': RobustScaler(copy=True, quantile_range=(25.0, 75.0), with_centering=True,\n          with_scaling=True),\n   'simple_imputer': FillNaTransformer(from_dict={},\n            mean=['Product_Info_4', 'Ins_Age', 'Ht', 'Wt', 'BMI', 'Employment_Info_1', 'Employment_Info_4', 'Employment_Info_6', 'Insurance_History_5', 'Family_Hist_2', 'Family_Hist_3', 'Family_Hist_4', 'Family_Hist_5', 'Medical_History_1', 'Medical_History_10', 'Medical_History_15', 'Medical_History_24', 'Medical_History_32'],\n            median=[],\n            nan_flag=['Product_Info_4', 'Ins_Age', 'Ht', 'Wt', 'BMI', 'Employment_Info_1', 'Employment_Info_4', 'Employment_Info_6', 'Insurance_History_5', 'Family_Hist_2', 'Family_Hist_3', 'Family_Hist_4', 'Family_Hist_5', 'Medical_History_1', 'Medical_History_10', 'Medical_History_15', 'Medical_History_24', 'Medical_History_32'],\n            zero=[])},\n  'score': 0.4226586420535899,\n  'std': 0.005930880816785933},\n 'XGBRegressor': {'params': {'binner': CustomBinner(configuration={'Medical_History_1': {'values': [0, 240], 'bins': [0, 1, 10, 30, 100, 200, 240]}, 'Medical_History_10': {'values': [0, 240], 'bins': [0, 1, 2, 240]}, 'Medical_History_15': {'values': [0, 240], 'bins': [0, 1, 2, 240]}, 'Medical_History_24': {'values': [0, 240], 'bins': [0, 1, 2, 240]}, 'Medical_History_32': {'values': [0, 240], 'bins': [0, 1, 2, 240]}},\n          drop=False, nan=False),\n   'binner2': None,\n   'boxcox': BoxCoxTransformer(lambdas_per_column={'Wt': 0.5}),\n   'combinations': FeatureProduct(columns=['Product_Info_4', 'Ins_Age', 'Ht', 'Wt', 'BMI', 'Employment_Info_1', 'Employment_Info_4', 'Employment_Info_6', 'Insurance_History_5', 'Family_Hist_2', 'Family_Hist_3', 'Family_Hist_4', 'Family_Hist_5']),\n   'dropper__drop': ['Product_Info_4_nan',\n    'Ins_Age_nan',\n    'Ht_nan',\n    'Wt_nan',\n    'BMI_nan',\n    'Employment_Info_1_nan',\n    'Employment_Info_4_nan',\n    'Employment_Info_6_nan',\n    'Insurance_History_5_nan',\n    'Family_Hist_2_nan',\n    'Family_Hist_3_nan',\n    'Family_Hist_4_nan',\n    'Family_Hist_5_nan',\n    'Medical_History_1_nan',\n    'Medical_History_10_nan',\n    'Medical_History_15_nan',\n    'Medical_History_24_nan',\n    'Medical_History_32_nan'],\n   'main_imputer': HotDeckFullImputer(col_k_pairs=[('Product_Info_4', None), ('Ins_Age', None), ('Ht', None), ('Wt', None), ('BMI', None), ('Employment_Info_1', None), ('Employment_Info_4', None), ('Employment_Info_6', None), ('Insurance_History_5', None), ('Family_Hist_2', None), ('Family_Hist_3', None), ('Family_Hist_4', None), ('Family_Hist_5', None), ('Medical_History_1', None), ('Medical_History_10', None), ('Medical_History_15', None), ('Medical_History_24', None), ('Medical_History_32', None)],\n             default_k=5),\n   'poly': None,\n   'predictor': LabelsClipper(regressor=XGBRegressor(base_score=0.5, booster='gbtree', colsample_bylevel=1,\n          colsample_bytree=1, gamma=0, learning_rate=0.1, max_delta_step=0,\n          max_depth=8, min_child_weight=1, missing=nan, n_estimators=100,\n          n_jobs=4, nthread=None, objective='reg:linear', random_state=0,\n          reg_alpha=0, reg_lambda=1, scale_pos_weight=1, seed=None,\n          silent=True, subsample=1)),\n   'reduce_dim': SelectFromModel(estimator=Lasso(alpha=0.0001, copy_X=True, fit_intercept=True, max_iter=1000,\n      normalize=False, positive=False, precompute=False, random_state=None,\n      selection='cyclic', tol=0.0001, warm_start=False),\n           norm_order=1, prefit=False, threshold=None),\n   'scaler': RobustScaler(copy=True, quantile_range=(25.0, 75.0), with_centering=True,\n          with_scaling=True),\n   'simple_imputer': FillNaTransformer(from_dict={},\n            mean=['Product_Info_4', 'Ins_Age', 'Ht', 'Wt', 'BMI', 'Employment_Info_1', 'Employment_Info_4', 'Employment_Info_6', 'Insurance_History_5', 'Family_Hist_2', 'Family_Hist_3', 'Family_Hist_4', 'Family_Hist_5', 'Medical_History_1', 'Medical_History_10', 'Medical_History_15', 'Medical_History_24', 'Medical_History_32'],\n            median=[],\n            nan_flag=['Product_Info_4', 'Ins_Age', 'Ht', 'Wt', 'BMI', 'Employment_Info_1', 'Employment_Info_4', 'Employment_Info_6', 'Insurance_History_5', 'Family_Hist_2', 'Family_Hist_3', 'Family_Hist_4', 'Family_Hist_5', 'Medical_History_1', 'Medical_History_10', 'Medical_History_15', 'Medical_History_24', 'Medical_History_32'],\n            zero=[])},\n  'score': 0.4013165044558284,\n  'std': 0.005226847144375746}}"
      ]
     },
     "execution_count": 5,
     "metadata": {},
     "output_type": "execute_result"
    }
   ],
   "source": [
    "best"
   ]
  },
  {
   "cell_type": "code",
   "execution_count": 9,
   "metadata": {},
   "outputs": [],
   "source": []
  }
 ],
 "metadata": {
  "kernelspec": {
   "display_name": "Python 2",
   "language": "python",
   "name": "python2"
  },
  "language_info": {
   "codemirror_mode": {
    "name": "ipython",
    "version": 2
   },
   "file_extension": ".py",
   "mimetype": "text/x-python",
   "name": "python",
   "nbconvert_exporter": "python",
   "pygments_lexer": "ipython2",
   "version": "2.7.6"
  }
 },
 "nbformat": 4,
 "nbformat_minor": 0
}
