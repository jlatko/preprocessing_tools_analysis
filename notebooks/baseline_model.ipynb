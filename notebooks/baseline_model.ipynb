{
 "cells": [
  {
   "cell_type": "code",
   "execution_count": 10,
   "metadata": {
    "collapsed": true
   },
   "outputs": [],
   "source": [
    "import pandas as pd\n",
    "import numpy as np\n",
    "import seaborn as sns\n",
    "from sklearn.linear_model import LogisticRegression, LinearRegression, Lasso\n",
    "from sklearn.model_selection import cross_val_score, StratifiedKFold, KFold\n",
    "from sklearn.pipeline import Pipeline\n",
    "from diagnostics.evaluation import fit_and_eval, rev_weighted_quad_kappa\n",
    "from transformers.one_hot_encoder import CustomOneHotEncoder\n",
    "from tools.datasets import get_boston, get_heart, get_houses, get_prudential\n",
    "from sklearn.metrics import make_scorer, accuracy_score, f1_score, mean_squared_error\n",
    "from imputers.zero_filler import ZeroFiller\n",
    "from transformers import LabelsClipper\n",
    "import warnings\n",
    "warnings.filterwarnings('ignore')"
   ]
  },
  {
   "cell_type": "code",
   "execution_count": 2,
   "metadata": {},
   "outputs": [],
   "source": [
    "\n",
    "# data, labels, continuous, discrete, dummy, categorical, target = get_boston()\n",
    "# data, labels, continuous, discrete, dummy, categorical, target = get_heart()\n",
    "# data, labels, continuous, discrete, dummy, categorical, target = get_houses()\n",
    "data, labels, continuous, discrete, dummy, categorical, target = get_prudential()\n",
    "train = data.drop(target, axis=1)"
   ]
  },
  {
   "cell_type": "code",
   "execution_count": 4,
   "metadata": {},
   "outputs": [],
   "source": [
    "model = Pipeline([\n",
    "        ('onehot',       CustomOneHotEncoder(columns=categorical)),\n",
    "        ('zero_filler',  ZeroFiller()),\n",
    "        # ('classifier',   LogisticRegression()),                # for Heart Disease\n",
    "        ('classifier',   LabelsClipper(LinearRegression())), # for Prudential\n",
    "        # ('regressor',    LinearRegression()),                # for Boston and Houses\n",
    "])"
   ]
  },
  {
   "cell_type": "code",
   "execution_count": 9,
   "metadata": {
    "collapsed": false
   },
   "outputs": [
    {
     "name": "stdout",
     "output_type": "stream",
     "text": [
      "mean: 0.5375788752266611 \nstd: 0.008538734001619235\n"
     ]
    }
   ],
   "source": [
    "# scores = cross_val_score(model, train.copy(), labels, cv=3, n_jobs=-1, scoring=make_scorer(accuracy_score))\n",
    "# scores = cross_val_score(model, train.copy(), labels, cv=KFold(3, shuffle=True, random_state=0), \n",
    "#                          n_jobs=-1, scoring=make_scorer(mean_squared_error))\n",
    "scores = cross_val_score(model, train.copy(), labels, cv=3, n_jobs=-1, scoring=make_scorer(rev_weighted_quad_kappa))\n",
    "# scores = np.sqrt(scores)\n",
    "print('mean:', scores.mean(),'\\nstd:', scores.std())"
   ]
  },
  {
   "cell_type": "code",
   "execution_count": null,
   "metadata": {},
   "outputs": [],
   "source": [
    "\n",
    "\n",
    "\n",
    "\n"
   ]
  }
 ],
 "metadata": {
  "kernelspec": {
   "display_name": "Python 2",
   "language": "python",
   "name": "python2"
  },
  "language_info": {
   "codemirror_mode": {
    "name": "ipython",
    "version": 2
   },
   "file_extension": ".py",
   "mimetype": "text/x-python",
   "name": "python",
   "nbconvert_exporter": "python",
   "pygments_lexer": "ipython2",
   "version": "2.7.6"
  }
 },
 "nbformat": 4,
 "nbformat_minor": 0
}
