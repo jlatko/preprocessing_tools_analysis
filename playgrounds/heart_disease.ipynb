{
 "cells": [
  {
   "cell_type": "code",
   "execution_count": null,
   "metadata": {
    "collapsed": true
   },
   "outputs": [],
   "source": [
    "# 'age' \n",
    "# 'sex' \n",
    "# 'cp' - chest_pain - cat\n",
    "# 'trestbps' - 'resting blood pressure'\n",
    "# 'chol' - 'cholestoral' - \n",
    "# 'fbs' -fasting blood sugar' -(>120) one hot\n",
    "# 'restecg' -resting electrocardiographic results' - cat\n",
    "# 'thalach' -  maximum heart rate achieved \n",
    "# 'exang' -  exercise induced angina (1 = yes; 0 = no) \n",
    "# 'oldpeak' -  ST depression induced by exercise relative to rest \n",
    "# 'slope' -  the slope of the peak exercise ST segment \n",
    "# -- Value 1: upsloping \n",
    "# -- Value 2: flat \n",
    "# -- Value 3: downsloping \n",
    "# 'ca' -  number of major vessels (0-3) colored by flourosopy \n",
    "# 'thal' -   3 = normal; 6 = fixed defect; 7 = reversable defect \n",
    "# 'num' - Y -  diagnosis of heart disease (angiographic disease status) \n",
    "# -- Value 0: < 50% diameter narrowing \n",
    "# -- Value 1: > 50% diameter narrowing "
   ]
  }
 ],
 "metadata": {
  "kernelspec": {
   "display_name": "Python 2",
   "language": "python",
   "name": "python2"
  },
  "language_info": {
   "codemirror_mode": {
    "name": "ipython",
    "version": 2
   },
   "file_extension": ".py",
   "mimetype": "text/x-python",
   "name": "python",
   "nbconvert_exporter": "python",
   "pygments_lexer": "ipython2",
   "version": "2.7.6"
  }
 },
 "nbformat": 4,
 "nbformat_minor": 0
}
