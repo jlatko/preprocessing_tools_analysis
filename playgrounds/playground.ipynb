{
 "cells": [
  {
   "cell_type": "code",
   "execution_count": 1,
   "metadata": {
    "collapsed": true
   },
   "outputs": [
    {
     "ename": "ImportError",
     "evalue": "cannot import name 'weighted_quad_kappa'",
     "traceback": [
      "\u001b[0;31m---------------------------------------------------------------------------\u001b[0m",
      "\u001b[0;31mImportError\u001b[0m                               Traceback (most recent call last)",
      "\u001b[0;32m<ipython-input-1-c808c3d6059c>\u001b[0m in \u001b[0;36m<module>\u001b[0;34m()\u001b[0m\n\u001b[1;32m      5\u001b[0m \u001b[0;32mimport\u001b[0m \u001b[0mmath\u001b[0m\u001b[0;34m\u001b[0m\u001b[0m\n\u001b[1;32m      6\u001b[0m \u001b[0;32mimport\u001b[0m \u001b[0mscipy\u001b[0m\u001b[0;34m.\u001b[0m\u001b[0mstats\u001b[0m \u001b[0;32mas\u001b[0m \u001b[0mstats\u001b[0m\u001b[0;34m\u001b[0m\u001b[0m\n\u001b[0;32m----> 7\u001b[0;31m \u001b[0;32mfrom\u001b[0m \u001b[0mmain\u001b[0m \u001b[0;32mimport\u001b[0m \u001b[0mget_data\u001b[0m\u001b[0;34m\u001b[0m\u001b[0m\n\u001b[0m\u001b[1;32m      8\u001b[0m \u001b[0;34m\u001b[0m\u001b[0m\n\u001b[1;32m      9\u001b[0m \u001b[0mdata\u001b[0m\u001b[0;34m,\u001b[0m \u001b[0mlabels\u001b[0m\u001b[0;34m,\u001b[0m \u001b[0mcontinuous\u001b[0m\u001b[0;34m,\u001b[0m \u001b[0mdiscrete\u001b[0m\u001b[0;34m,\u001b[0m \u001b[0mdummy\u001b[0m\u001b[0;34m,\u001b[0m \u001b[0mcategorical\u001b[0m \u001b[0;34m=\u001b[0m \u001b[0mget_data\u001b[0m\u001b[0;34m(\u001b[0m\u001b[0;34m)\u001b[0m\u001b[0;34m\u001b[0m\u001b[0m\n",
      "\u001b[0;32m~/Desktop/final/main.py\u001b[0m in \u001b[0;36m<module>\u001b[0;34m()\u001b[0m\n\u001b[1;32m      9\u001b[0m \u001b[0;32mfrom\u001b[0m \u001b[0msklearn\u001b[0m\u001b[0;34m.\u001b[0m\u001b[0mneighbors\u001b[0m \u001b[0;32mimport\u001b[0m \u001b[0mKNeighborsRegressor\u001b[0m\u001b[0;34m\u001b[0m\u001b[0m\n\u001b[1;32m     10\u001b[0m \u001b[0;34m\u001b[0m\u001b[0m\n\u001b[0;32m---> 11\u001b[0;31m \u001b[0;32mfrom\u001b[0m \u001b[0mdiagnostics\u001b[0m\u001b[0;34m.\u001b[0m\u001b[0mevaluation\u001b[0m \u001b[0;32mimport\u001b[0m \u001b[0mfit_and_eval\u001b[0m\u001b[0;34m,\u001b[0m \u001b[0mweighted_quad_kappa\u001b[0m\u001b[0;34m\u001b[0m\u001b[0m\n\u001b[0m\u001b[1;32m     12\u001b[0m \u001b[0;32mfrom\u001b[0m \u001b[0mimputers\u001b[0m\u001b[0;34m.\u001b[0m\u001b[0mhot_deck_full_imputer\u001b[0m \u001b[0;32mimport\u001b[0m \u001b[0mHotDeckFullImputer\u001b[0m\u001b[0;34m,\u001b[0m \u001b[0mHotDeckColImputer\u001b[0m\u001b[0;34m\u001b[0m\u001b[0m\n\u001b[1;32m     13\u001b[0m \u001b[0;32mfrom\u001b[0m \u001b[0mimputers\u001b[0m\u001b[0;34m.\u001b[0m\u001b[0mhot_deck_simple_imputer\u001b[0m \u001b[0;32mimport\u001b[0m \u001b[0mHotDeckSimpleImputer\u001b[0m\u001b[0;34m\u001b[0m\u001b[0m\n",
      "\u001b[0;31mImportError\u001b[0m: cannot import name 'weighted_quad_kappa'"
     ],
     "output_type": "error"
    }
   ],
   "source": [
    "import pandas as pd\n",
    "import numpy as np\n",
    "import seaborn as sns\n",
    "import matplotlib.pyplot as plt\n",
    "import math\n",
    "import scipy.stats as stats\n",
    "from main import get_data\n",
    "\n",
    "data, labels, continuous, discrete, dummy, categorical = get_data()"
   ]
  },
  {
   "cell_type": "code",
   "execution_count": 5,
   "metadata": {
    "collapsed": false
   },
   "outputs": [
    {
     "name": "stdout",
     "output_type": "stream",
     "text": [
      "BartlettResult(statistic=12033.398149721404, pvalue=0.0)\nLeveneResult(statistic=1177.735285726511, pvalue=0.0)\n(0.954596996307373, 0.0)\n[(0.9423052072525024, 6.445972935894159e-44), (0.9554943442344666, 9.930161437591384e-41), (0.9892969727516174, 9.652505923440913e-07), (0.9927316308021545, 1.742726453812793e-06), (0.985754132270813, 5.412469965118713e-23), (0.9973841309547424, 3.992728727936906e-13), (0.9898305535316467, 1.460539047326339e-23), (0.9937908053398132, 7.582710228765691e-28)]\n"
     ]
    },
    {
     "name": "stderr",
     "output_type": "stream",
     "text": [
      "/home/johnny/anaconda3/lib/python3.6/site-packages/scipy/stats/morestats.py:1310: UserWarning: p-value may not be accurate for N > 5000.\n  warnings.warn(\"p-value may not be accurate for N > 5000.\")\n"
     ]
    },
    {
     "data": {
      "text/plain": [
       "[0.14759368795267364,\n 0.15755670770396546,\n 0.1197089164662691,\n 0.0759095280672565,\n 0.12730953763148875,\n 0.09861721324512085,\n 0.07683182284338817,\n 0.06925776964441638]"
      ]
     },
     "execution_count": 5,
     "metadata": {},
     "output_type": "execute_result"
    }
   ],
   "source": [
    "col = 'BMI'\n",
    "grouped = list(data.groupby('Response')[col].apply(np.array))\n",
    "print(stats.bartlett(*grouped))\n",
    "print(stats.levene(*grouped))\n",
    "print(stats.shapiro(data[col]))\n",
    "print([stats.shapiro(group) for group in grouped])\n",
    "[group.std() for group in grouped]\n"
   ]
  },
  {
   "cell_type": "code",
   "execution_count": 38,
   "metadata": {},
   "outputs": [],
   "source": [
    "data['X'] = np.random.randint(0, 5, data.shape[0])\n",
    "data['C'] = np.random.random_sample(data.shape[0])\n"
   ]
  },
  {
   "cell_type": "code",
   "execution_count": 49,
   "metadata": {},
   "outputs": [],
   "source": [
    "def cross_kruskal(data, categorical, numerical):\n",
    "    return np.array([[\n",
    "        stats.kruskal(*list(data.groupby(cat)[num].apply(np.array))) for cat in categorical\n",
    "    ] for num in numerical])\n",
    "\n",
    "def cross_anova(data, categorical, numerical):\n",
    "    return np.array([[\n",
    "        stats.f_oneway(*list(data.groupby(cat)[num].apply(np.array))) for cat in categorical\n",
    "    ] for num in numerical])\n",
    "\n",
    "def apply_across(data, categorical, numerical, metric):\n",
    "    return np.array([[\n",
    "        metric(*list(data.groupby(cat)[num].apply(np.array))) for cat in categorical\n",
    "    ] for num in numerical])"
   ]
  },
  {
   "cell_type": "code",
   "execution_count": 50,
   "metadata": {},
   "outputs": [
    {
     "name": "stdout",
     "output_type": "stream",
     "text": [
      "[[[1558.43883054    0.        ]]]\n[[[1558.43883054    0.        ]]]\n"
     ]
    }
   ],
   "source": [
    "print(cross_kruskal(data, ['Response'], ['Ht']))\n",
    "print(apply_across(data, ['Response'], ['Ht'],stats.kruskal))"
   ]
  },
  {
   "cell_type": "code",
   "execution_count": 65,
   "metadata": {},
   "outputs": [
    {
     "data": {
      "text/plain": [
       "array([[[1127.28808407,    0.        ]]])"
      ]
     },
     "execution_count": 65,
     "metadata": {},
     "output_type": "execute_result"
    }
   ],
   "source": [
    "cross_anova(data, ['Response'], ['Medical_Keyword_15'])"
   ]
  },
  {
   "cell_type": "code",
   "execution_count": 90,
   "metadata": {},
   "outputs": [
    {
     "name": "stdout",
     "output_type": "stream",
     "text": [
      "-0.0013199728855671454\n0.0004618008662885764\n"
     ]
    }
   ],
   "source": [
    "col = 'InsuredInfo_5'\n",
    "print(stats.spearmanr(data['Response'], data[col])[0])\n",
    "print(stats.pearsonr(data['Response'], data[col])[0])"
   ]
  },
  {
   "cell_type": "code",
   "execution_count": 72,
   "metadata": {},
   "outputs": [
    {
     "data": {
      "text/plain": [
       "(-0.25916885555507857, 0.0)"
      ]
     },
     "execution_count": 72,
     "metadata": {},
     "output_type": "execute_result"
    }
   ],
   "source": [
    "stats.pearsonr(data['Response'], data['Medical_Keyword_15'])"
   ]
  },
  {
   "cell_type": "code",
   "execution_count": 52,
   "metadata": {},
   "outputs": [],
   "source": [
    "path = \"./data/boston/data.csv\"\n",
    "data = pd.read_csv(path)\n",
    "data = data.dropna(axis=0)"
   ]
  },
  {
   "cell_type": "code",
   "execution_count": 69,
   "metadata": {},
   "outputs": [
    {
     "data": {
      "text/plain": [
       "crim        22\nzn          22\nindus       22\nchas         0\nnox         22\nrm         113\nage        113\ndis         22\nrad          0\ntax        113\nptratio    113\nb          113\nlstat        0\nmedv         0\ndtype: int64"
      ]
     },
     "execution_count": 69,
     "metadata": {},
     "output_type": "execute_result"
    }
   ],
   "source": [
    "import random\n",
    "\n",
    "rand_ind = random.sample(list(data.index), 22)\n",
    "\n",
    "continuous = ['crim', 'zn', 'nox', 'indus', 'rm', 'age', 'tax', 'ptratio', 'b', 'lstat']\n",
    "data.isnull().sum()\n",
    "\n",
    "\n",
    "\n",
    "\n"
   ]
  },
  {
   "cell_type": "code",
   "execution_count": 66,
   "metadata": {},
   "outputs": [
    {
     "data": {
      "text/plain": [
       "0       1\n1       2\n2       2\n3       3\n4       3\n5       3\n6       5\n7       5\n8       5\n9       5\n10      5\n11      5\n12      5\n13      4\n14      4\n15      4\n16      4\n17      4\n18      4\n19      4\n20      4\n21      4\n22      4\n23      4\n24      4\n25      4\n26      4\n27      4\n28      4\n29      4\n       ..\n473    24\n474    24\n475    24\n476    24\n480    24\n481    24\n482    24\n483    24\n484    24\n485    24\n486    24\n487    24\n488     4\n489     4\n490     4\n491     4\n492     4\n493     6\n494     6\n495     6\n496     6\n497     6\n498     6\n499     6\n500     6\n501     1\n502     1\n503     1\n504     1\n505     1\nName: rad, Length: 452, dtype: int64"
      ]
     },
     "execution_count": 66,
     "metadata": {},
     "output_type": "execute_result"
    }
   ],
   "source": [
    "data.rad\n"
   ]
  },
  {
   "cell_type": "code",
   "execution_count": 74,
   "metadata": {},
   "outputs": [
    {
     "data": {
      "text/plain": [
       "count    150.000000\nmean      23.557333\nstd        8.913969\nmin        6.300000\n25%       17.900000\n50%       21.850000\n75%       26.600000\nmax       50.000000\nName: medv, dtype: float64"
      ]
     },
     "execution_count": 74,
     "metadata": {},
     "output_type": "execute_result"
    }
   ],
   "source": [
    "from sklearn.cross_validation import train_test_split\n",
    "\n",
    "train, test = train_test_split(data, test_size=0.33)\n",
    "test['medv'].describe()"
   ]
  },
  {
   "cell_type": "code",
   "execution_count": 76,
   "metadata": {},
   "outputs": [],
   "source": [
    "train.to_csv('./data/boston/train_missing.csv',index=None)"
   ]
  },
  {
   "cell_type": "code",
   "execution_count": 73,
   "metadata": {},
   "outputs": [
    {
     "data": {
      "text/plain": [
       "count    452.000000\nmean      23.750442\nstd        8.808602\nmin        6.300000\n25%       18.500000\n50%       21.950000\n75%       26.600000\nmax       50.000000\nName: medv, dtype: float64"
      ]
     },
     "execution_count": 73,
     "metadata": {},
     "output_type": "execute_result"
    }
   ],
   "source": [
    "data['medv'].describe()"
   ]
  },
  {
   "cell_type": "code",
   "execution_count": 30,
   "metadata": {
    "collapsed": true
   },
   "outputs": [
    {
     "data": {
      "text/plain": [
       "age             int64\nsex             int64\nchest_pain      int64\ntrestbps        int64\nchol            int64\nfbs             int64\nrestecg         int64\nthalach         int64\nexang           int64\noldpeak       float64\nslope           int64\nca            float64\nthal            int64\nnum             int64\ndtype: object"
      ]
     },
     "execution_count": 30,
     "metadata": {},
     "output_type": "execute_result"
    }
   ],
   "source": [
    "data.dtypes"
   ]
  },
  {
   "cell_type": "code",
   "execution_count": null,
   "metadata": {},
   "outputs": [],
   "source": []
  }
 ],
 "metadata": {
  "kernelspec": {
   "display_name": "Python 2",
   "language": "python",
   "name": "python2"
  },
  "language_info": {
   "codemirror_mode": {
    "name": "ipython",
    "version": 2
   },
   "file_extension": ".py",
   "mimetype": "text/x-python",
   "name": "python",
   "nbconvert_exporter": "python",
   "pygments_lexer": "ipython2",
   "version": "2.7.6"
  }
 },
 "nbformat": 4,
 "nbformat_minor": 0
}
