{
 "cells": [
  {
   "cell_type": "code",
   "execution_count": 27,
   "metadata": {},
   "outputs": [],
   "source": [
    "import numpy as np\n",
    "import matplotlib.pyplot as plt\n",
    "import matplotlib.patches as mpatches\n",
    "import matplotlib.lines as mlines"
   ]
  },
  {
   "cell_type": "code",
   "execution_count": 39,
   "metadata": {
    "collapsed": true
   },
   "outputs": [],
   "source": [
    "data = {\n",
    "    'x': {\n",
    "        'xx': {'mean': 0.8, 'std': 0.1}\n",
    "    },\n",
    "    'a' : {\n",
    "        '1': {'mean': 1, 'std': 0.15}, \n",
    "        '2': {'mean': 2, 'std': 0.15}, \n",
    "        '3': {'mean': 3, 'std': 0.15}\n",
    "    },\n",
    "    'b' : {\n",
    "        '1': {'mean': 1.5, 'std': 0.2}, \n",
    "        '2': {'mean': 2.5, 'std': 0.2}, \n",
    "        '3': {'mean': 3.5, 'std': 0.2}\n",
    "    },\n",
    "}"
   ]
  },
  {
   "cell_type": "code",
   "execution_count": 10,
   "metadata": {},
   "outputs": [
    {
     "data": {
      "text/plain": [
       "<matplotlib.figure.Figure at 0x7f6c61813b70>"
      ]
     },
     "execution_count": 0,
     "metadata": {},
     "output_type": "execute_result"
    }
   ],
   "source": [
    "plt.figure()\n",
    "COLORS = 'bgrcmyk'\n",
    "legend = {}\n",
    "i = 0\n",
    "for model, settings in data.items():\n",
    "    for setting in settings.keys():\n",
    "        if setting not in legend:\n",
    "            legend[setting] = COLORS[i % len(COLORS)]\n",
    "            i += 1"
   ]
  },
  {
   "cell_type": "code",
   "execution_count": 15,
   "metadata": {},
   "outputs": [],
   "source": [
    "W = 0.5\n",
    "W2 = 0.2\n",
    "W3 = 0.2"
   ]
  },
  {
   "cell_type": "code",
   "execution_count": 35,
   "metadata": {},
   "outputs": [
    {
     "data": {
      "image/png": "[encoded data removed]",
      "text/plain": [
       "<matplotlib.figure.Figure at 0x7f6c6068a6a0>"
      ]
     },
     "metadata": {},
     "output_type": "display_data"
    }
   ],
   "source": [
    "\n",
    "ticks = []\n",
    "offsets = []\n",
    "offset = 0\n",
    "for model, settings in data.items():\n",
    "    offset += W\n",
    "    ticks.append(model)\n",
    "    offsets.append(offset + (len(settings) + 1) * W3/2.0)\n",
    "    for setting, results in settings.items():\n",
    "        offset += W2\n",
    "        plt.bar(offset,  results['mean'], yerr=results['std'], width=W3, color=legend[setting])\n",
    "        plt.text(offset, results['mean'] + results['std'], results['mean'], ha='center', va='bottom')\n",
    "        \n",
    "plt.title(\"Search for best hyperparams\")\n",
    "plt.xlabel('A')\n",
    "plt.xticks(offsets, ticks)\n",
    "plt.ylabel('error')\n",
    "plt.legend(handles=[mpatches.Patch(color=c, label=l) for l, c in legend.items()], loc='best')\n",
    "plt.show()"
   ]
  },
  {
   "cell_type": "code",
   "execution_count": 41,
   "metadata": {},
   "outputs": [
    {
     "data": {
      "image/png": "[encoded data removed]",
      "text/plain": [
       "<matplotlib.figure.Figure at 0x7f6c605fc908>"
      ]
     },
     "metadata": {},
     "output_type": "display_data"
    }
   ],
   "source": [
    "from visualization.plot_results import plot_results\n",
    "\n",
    "plot_results(data, save_path=\"./results/fig.png\")"
   ]
  },
  {
   "cell_type": "code",
   "execution_count": null,
   "metadata": {},
   "outputs": [],
   "source": []
  }
 ],
 "metadata": {
  "kernelspec": {
   "display_name": "Python 2",
   "language": "python",
   "name": "python2"
  },
  "language_info": {
   "codemirror_mode": {
    "name": "ipython",
    "version": 2
   },
   "file_extension": ".py",
   "mimetype": "text/x-python",
   "name": "python",
   "nbconvert_exporter": "python",
   "pygments_lexer": "ipython2",
   "version": "2.7.6"
  }
 },
 "nbformat": 4,
 "nbformat_minor": 0
}
